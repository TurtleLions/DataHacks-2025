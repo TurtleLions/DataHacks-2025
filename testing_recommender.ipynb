{
 "cells": [
  {
   "cell_type": "code",
   "execution_count": 3,
   "metadata": {},
   "outputs": [
    {
     "name": "stdout",
     "output_type": "stream",
     "text": [
      "Recommendations for Lycoris Recoil\n",
      "       anime_id                                              Name    Score  \\\n",
      "24036     54440               Lycoris Recoil (Shinsaku Animation)  UNKNOWN   \n",
      "3787       4729                                    Natural 2: Duo     5.91   \n",
      "7930      18747                                   Hotaru Kagayaku     5.47   \n",
      "2980       3375                                         Kirepapa.      6.6   \n",
      "4981       7415  Mukougaoka Chisato wa Tada Mitsumeteita no Datta     6.01   \n",
      "\n",
      "                                           Genres  \n",
      "24036                                      Action  \n",
      "3787                                       Hentai  \n",
      "7930                                        Drama  \n",
      "2980   Boys Love, Comedy, Drama, Romance, Erotica  \n",
      "4981                                      UNKNOWN  \n"
     ]
    }
   ],
   "source": [
    "import pandas as pd\n",
    "from sklearn.feature_extraction.text import TfidfVectorizer\n",
    "from sklearn.metrics.pairwise import cosine_similarity\n",
    "\n",
    "def load_data(csv_file_path):\n",
    "  # load dataset into a pandas DataFrame\n",
    "  df = pd.read_csv(csv_file_path)\n",
    "  \n",
    "  # making sure dataset is filled\n",
    "  df['Synopsis'] = df['Synopsis'].fillna('')\n",
    "  df['Genres'] = df['Genres'].fillna('')\n",
    "\n",
    "  # put Synopsis and Genre together into one text field\n",
    "  df['combined_features'] = df['Synopsis'] + ' ' + df['Genres']\n",
    "  return df\n",
    "\n",
    "def build_similarity_matrix(df):\n",
    "  # create TF-IDF Vectorizer using default english\n",
    "  tfidf = TfidfVectorizer(stop_words='english')\n",
    "\n",
    "  # create the TF-IDF matrix based on combined features from earlier\n",
    "  tfidf_matrix = tfidf.fit_transform(df['combined_features'])\n",
    "\n",
    "  # cosine similarity between all anime in list\n",
    "  cosine_sim = cosine_similarity(tfidf_matrix, tfidf_matrix)\n",
    "  return cosine_sim\n",
    "\n",
    "def recommend_anime(anime_name, df, cosine_sim, n):\n",
    "  # mapping anime titles to dataFrame indices\n",
    "  indices = pd.Series(df.index, index=df['Name']).drop_duplicates()\n",
    "  if anime_name not in indices:\n",
    "    return f\"'{anime_name}' not found\"\n",
    "  \n",
    "  # get the index corresponding to the anime\n",
    "  index = indices[anime_name]\n",
    "  \n",
    "  # compute similarity scores for this anime with all others\n",
    "  sim_scores = list(enumerate(cosine_sim[index]))\n",
    "\n",
    "  # sort the anime based on similarity scores (highest first)\n",
    "  sim_scores = sorted(sim_scores, key=lambda x: x[1], reverse=True)\n",
    "  \n",
    "  # only take requested number of entries\n",
    "  sim_scores = sim_scores[1:n+1]\n",
    "  anime_indices = [i[0] for i in sim_scores]\n",
    "  \n",
    "  # return selected columns for the recommended anime\n",
    "  return df.iloc[anime_indices][['anime_id', 'Name', 'Score', 'Genres']]\n",
    "\n",
    "if __name__ == \"__main__\":\n",
    "  csv_file_path = './dataset/anime-dataset-2023.csv'\n",
    "  df = load_data(csv_file_path)\n",
    "  cosine_sim = build_similarity_matrix(df)\n",
    "  \n",
    "  anime_to_recommend = \"Lycoris Recoil\"\n",
    "  recommendations = recommend_anime(anime_to_recommend, df, cosine_sim, n=5)\n",
    "  print(\"Recommendations for\", anime_to_recommend)\n",
    "  print(recommendations)\n"
   ]
  }
 ],
 "metadata": {
  "kernelspec": {
   "display_name": ".venv",
   "language": "python",
   "name": "python3"
  },
  "language_info": {
   "codemirror_mode": {
    "name": "ipython",
    "version": 3
   },
   "file_extension": ".py",
   "mimetype": "text/x-python",
   "name": "python",
   "nbconvert_exporter": "python",
   "pygments_lexer": "ipython3",
   "version": "3.12.3"
  }
 },
 "nbformat": 4,
 "nbformat_minor": 2
}
