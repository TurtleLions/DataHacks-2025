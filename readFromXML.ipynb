{
 "cells": [
  {
   "cell_type": "code",
   "execution_count": 15,
   "metadata": {},
   "outputs": [],
   "source": [
    "import csv\n",
    "import xml.etree.ElementTree as ET\n"
   ]
  },
  {
   "cell_type": "code",
   "execution_count": null,
   "metadata": {},
   "outputs": [
    {
     "name": "stdout",
     "output_type": "stream",
     "text": [
      "4\n"
     ]
    }
   ],
   "source": [
    "def getUserIDFromUsername(username):\n",
    "  with open('./dataset/users-details-2023.csv', mode='r', newline='', encoding='utf-8') as csvfile:\n",
    "    reader = csv.DictReader(csvfile)\n",
    "    for row in reader:\n",
    "      if row['Username'] == username:\n",
    "        return row['Mal ID']\n",
    "  return None"
   ]
  },
  {
   "cell_type": "code",
   "execution_count": null,
   "metadata": {},
   "outputs": [
    {
     "name": "stdout",
     "output_type": "stream",
     "text": [
      "['Action', 'Award Winning', 'Sci-Fi']\n"
     ]
    }
   ],
   "source": [
    "def getGenresForAnime(anime_name):\n",
    "  with open('./dataset/anime-dataset-2023.csv', mode='r', newline='', encoding='utf-8') as csvfile:\n",
    "    reader = csv.DictReader(csvfile)\n",
    "    for row in reader:\n",
    "      if row['Name'] == anime_name:\n",
    "        genres = row['Genres']\n",
    "        return [genre.strip() for genre in genres.split(',')]\n",
    "    return None"
   ]
  },
  {
   "cell_type": "code",
   "execution_count": 5,
   "metadata": {},
   "outputs": [
    {
     "name": "stdout",
     "output_type": "stream",
     "text": [
      "8.75\n"
     ]
    }
   ],
   "source": [
    "def getAverageScoreForAnime(anime_name):\n",
    "  with open('./dataset/anime-dataset-2023.csv', mode='r', newline='', encoding='utf-8') as csvfile:\n",
    "    reader = csv.DictReader(csvfile)\n",
    "    for row in reader:\n",
    "      if row['Name'] == anime_name:\n",
    "        return row['Score']\n",
    "    return None\n",
    "\n",
    "print(getAverageScoreForAnime(\"Cowboy Bebop\"))"
   ]
  },
  {
   "cell_type": "code",
   "execution_count": null,
   "metadata": {},
   "outputs": [
    {
     "name": "stdout",
     "output_type": "stream",
     "text": [
      "[['4', '873', '.hack//Roots', '6'], ['4', '298', '.hack//Tasogare no Udewa Densetsu', '5'], ['4', '5525', '07-Ghost', '7'], ['4', '6682', '11eyes', '5'], ['4', '32601', '12-sai.: Chicchana Mune no Tokimeki', '6'], ['4', '33419', '12-sai.: Chicchana Mune no Tokimeki 2nd Season', '5'], ['4', '9776', 'A-Channel', '6'], ['4', '49', 'Aa! Megami-sama!', '6'], ['4', '11759', 'Accel World', '7'], ['4', '37403', 'Ahiru no Sora', '6'], ['4', '101', 'Air', '8'], ['4', '102', 'Aishiteruze Baby★★', '7'], ['4', '17082', 'Aiura', '5'], ['4', '31580', 'Ajin', '7'], ['4', '30123', 'Akagami no Shirayuki-hime', '8'], ['4', '22199', 'Akame ga Kill!', '5'], ['4', '4744', 'Akaneiro ni Somaru Saka', '4'], ['4', '5772', 'Akaneiro ni Somaru Saka: Hardcore', '2'], ['4', '25013', 'Akatsuki no Yona', '7'], ['4', '12149', 'AKB0048', '7'], ['4', '14941', 'AKB0048: Next Stage', '7'], ['4', '47', 'Akira', '10'], ['4', '16201', 'Aku no Hana', '6'], ['4', '22729', 'Aldnoah.Zero', '8'], ['4', '27655', 'Aldnoah.Zero Part 2', '5'], ['4', '3549', 'Allison to Lillia', '8'], ['4', '3359', 'Amatsuki', '7'], ['4', '15085', 'Amnesia', '3'], ['4', '6547', 'Angel Beats!', '8'], ['4', '3829', 'Anne no Nikki', '4'], ['4', '9989', 'Ano Hi Mita Hana no Namae wo Bokutachi wa Mada Shiranai.', '10'], ['4', '11433', 'Ano Natsu de Matteru', '7'], ['4', '11111', 'Another', '8'], ['4', '24833', 'Ansatsu Kyoushitsu', '8'], ['4', '30654', 'Ansatsu Kyoushitsu 2nd Season', '7'], ['4', '21995', 'Ao Haru Ride', '7'], ['4', '9919', 'Ao no Exorcist', '7'], ['4', '33506', 'Ao no Exorcist: Kyoto Fujouou-hen', '8'], ['4', '30205', 'Aoharu x Kikanjuu', '4'], ['4', '18893', 'Aoki Hagane no Arpeggio: Ars Nova', '5'], ['4', '16518', 'Arata Kangatari', '6'], ['4', '12967', 'Arcana Famiglia', '4'], ['4', '477', 'Aria the Animation', '7'], ['4', '28249', 'Arslan Senki (TV)', '7'], ['4', '9736', 'Astarotte no Omocha!', '6'], ['4', '5342', \"Asura Cryin'\", '7'], ['4', '6676', \"Asura Cryin' 2\", '7'], ['4', '104', 'Ayashi no Ceres', '6'], ['4', '2251', 'Baccano!', '10'], ['4', '3901', 'Baccano! Specials', '10'], ['4', '6347', 'Baka to Test to Shoukanjuu', '7'], ['4', '28805', 'Bakemono no Ko', '8'], ['4', '7674', 'Bakuman.', '8'], ['4', '10030', 'Bakuman. 2nd Season', '8'], ['4', '2986', 'Bamboo Blade', '8'], ['4', '33573', 'BanG Dream!', '7'], ['4', '22789', 'Barakamon', '8'], ['4', '10396', 'Ben-To', '8'], ['4', '13535', 'Binbougami ga!', '8'], ['4', '20787', 'Black Bullet', '7'], ['4', '68', 'Black Cat (TV)', '4'], ['4', '889', 'Black Lagoon', '7'], ['4', '7059', 'Black★Rock Shooter (OVA)', '8'], ['4', '18767', 'BlazBlue: Alter Memory', '6'], ['4', '150', 'Blood+', '9'], ['4', '10490', 'Blood-C', '5'], ['4', '31043', 'Boku dake ga Inai Machi', '9'], ['4', '31964', 'Boku no Hero Academia', '8'], ['4', '33486', 'Boku no Hero Academia 2nd Season', '8'], ['4', '36456', 'Boku no Hero Academia 3rd Season', '7'], ['4', '36896', 'Boku no Hero Academia the Movie 1: Futari no Hero', '7'], ['4', '10719', 'Boku wa Tomodachi ga Sukunai', '6'], ['4', '14967', 'Boku wa Tomodachi ga Sukunai Next', '6'], ['4', '1222', 'Bokura ga Ita', '7'], ['4', '159', 'Boukyaku no Senritsu', '5'], ['4', '105', 'Boys Be...', '6'], ['4', '6772', 'Break Blade Movie 1: Kakusei no Toki', '7'], ['4', '8514', 'Break Blade Movie 2: Ketsubetsu no Michi', '7'], ['4', '9252', 'Break Blade Movie 3: Kyoujin no Ato', '7'], ['4', '9465', 'Break Blade Movie 4: Sanka no Chi', '7'], ['4', '9724', 'Break Blade Movie 5: Shisen no Hate', '7'], ['4', '10092', 'Break Blade Movie 6: Doukoku no Toride', '6'], ['4', '14345', 'Btooom!', '8'], ['4', '21437', 'Buddy Complex', '7'], ['4', '24469', 'Buddy Complex: Kanketsu-hen - Ano Sora ni Kaeru Mirai de', '7'], ['4', '31478', 'Bungou Stray Dogs', '7'], ['4', '32867', 'Bungou Stray Dogs 2nd Season', '7'], ['4', '38003', 'Bungou Stray Dogs 3rd Season', '8'], ['4', '34944', 'Bungou Stray Dogs: Dead Apple', '7'], ['4', '33071', 'Bungou Stray Dogs: Hitori Ayumu', '7'], ['4', '3389', 'Bus Gamer', '5'], ['4', '1536', 'Busou Renkin', '4'], ['4', '1689', 'Byousoku 5 Centimeter', '8'], ['4', '10163', 'C: The Money of Soul and Possibility Control', '5'], ['4', '12293', 'Campione! Matsurowanu Kamigami to Kamigoroshi no Maou', '4'], ['4', '5356', 'Canaan', '8'], ['4', '10578', 'C³', '5'], ['4', '28999', 'Charlotte', '7'], ['4', '32483', 'Cheer Danshi!!', '6'], ['4', '10800', 'Chihayafuru', '9'], ['4', '14397', 'Chihayafuru 2', '9'], ['4', '60', 'Chrno Crusade', '8'], ['4', '4186', 'Chrome Shelled Regios', '7'], ['4', '110', 'Chuuka Ichiban!', '7'], ['4', '14741', 'Chuunibyou demo Koi ga Shitai!', '9'], ['4', '15687', 'Chuunibyou demo Koi ga Shitai! Lite', '8'], ['4', '18671', 'Chuunibyou demo Koi ga Shitai! Ren', '7'], ['4', '2167', 'Clannad', '10'], ['4', '32407', 'Clockwork Planet', '4'], ['4', '1575', 'Code Geass: Hangyaku no Lelouch', '8'], ['4', '2904', 'Code Geass: Hangyaku no Lelouch R2', '8'], ['4', '11703', 'Code:Breaker', '4'], ['4', '31456', 'Code:Realize - Sousei no Himegimi', '7'], ['4', '31318', 'Comet Lucifer', '4'], ['4', '9479', 'Coppelion', '5'], ['4', '10029', 'Coquelicot-zaka kara', '8'], ['4', '1', 'Cowboy Bebop', '8'], ['4', '5', 'Cowboy Bebop: Tengoku no Tobira', '8'], ['4', '25731', 'Cross Ange: Tenshi to Ryuu no Rondo', '4'], ['4', '32370', 'D.Gray-man Hallow', '7'], ['4', '61', 'D.N.Angel', '6'], ['4', '12549', 'Dakara Boku wa, H ga Dekinai.', '5'], ['4', '34103', 'Danganronpa 3: The End of Kibougamine Gakuen - Kibou-hen', '7'], ['4', '32189', 'Danganronpa 3: The End of Kibougamine Gakuen - Mirai-hen', '7'], ['4', '33028', 'Danganronpa 3: The End of Kibougamine Gakuen - Zetsubou-hen', '8'], ['4', '16592', 'Danganronpa: Kibou no Gakuen to Zetsubou no Koukousei The Animation', '7'], ['4', '26349', 'Danna ga Nani wo Itteiru ka Wakaranai Ken', '6'], ['4', '29067', 'Danna ga Nani wo Itteiru ka Wakaranai Ken 2 Sure-me', '6'], ['4', '16355', 'Dansai Bunri no Crime Edge', '4'], ['4', '2025', 'Darker than Black: Kuro no Keiyakusha', '8'], ['4', '35849', 'Darling in the FranXX', '7'], ['4', '15583', 'Date A Live', '7'], ['4', '63', 'DearS', '2'], ['4', '14353', 'Death Billiards', '7'], ['4', '34497', 'Death March kara Hajimaru Isekai Kyousoukyoku', '5'], ['4', '28223', 'Death Parade', '7'], ['4', '8086', 'Densetsu no Yuusha no Densetsu', '8'], ['4', '779', 'Detective Conan Movie 01: The Timed Skyscraper', '6'], ['4', '780', 'Detective Conan Movie 02: The Fourteenth Target', '5'], ['4', '781', 'Detective Conan Movie 03: The Last Wizard of the Century', '7'], ['4', '16512', 'Devil Survivor 2 The Animation', '7'], ['4', '17513', 'Diabolik Lovers', '3'], ['4', '20919', 'Diabolik Lovers Recap', '3'], ['4', '31163', 'Dimension W', '5'], ['4', '31710', 'Divine Gate', '4'], ['4', '21743', 'Donten ni Warau', '7'], ['4', '9330', 'Dragon Crisis!', '5'], ['4', '23333', 'DRAMAtical Murder', '3'], ['4', '28121', 'Dungeon ni Deai wo Motomeru no wa Machigatteiru Darou ka', '7'], ['4', '236', \"E's Otherwise\", '6'], ['4', '1189', \"Eden's Bowy\", '5'], ['4', '2924', 'ef: A Tale of Memories.', '8'], ['4', '118', 'El Hazard 2: The Magnificent World', '7'], ['4', '117', 'El Hazard: The Magnificent World', '7'], ['4', '38671', 'Enen no Shouboutai', '7'], ['4', '40956', 'Enen no Shouboutai: Ni no Shou', '7'], ['4', '1250', 'Erementar Gerad', '6'], ['4', '2759', 'Evangelion: 1.0 You Are (Not) Alone', '9'], ['4', '3784', 'Evangelion: 2.0 You Can (Not) Advance', '10'], ['4', '3785', 'Evangelion: 3.0 You Can (Not) Redo', '6'], ['4', '30778', 'Fairy Tail Movie 2: Dragon Cry', '4'], ['4', '119', 'Final Approach', '6'], ['4', '317', 'Final Fantasy VII: Advent Children', '4'], ['4', '8536', 'Fortune Arterial: Akai Yakusoku', '4'], ['4', '18507', 'Free!', '7'], ['4', '22265', 'Free! Eternal Summer', '7'], ['4', '9367', 'Freezing', '6'], ['4', '120', 'Fruits Basket', '8'], ['4', '33203', 'Fukumenkei Noise', '7'], ['4', '71', 'Full Metal Panic!', '8'], ['4', '122', 'Full Moon wo Sagashite', '8'], ['4', '121', 'Fullmetal Alchemist', '9'], ['4', '5114', 'Fullmetal Alchemist: Brotherhood', '10'], ['4', '908', 'Fullmetal Alchemist: Premium Collection', '6'], ['4', '430', 'Fullmetal Alchemist: The Conqueror of Shamballa', '7'], ['4', '123', 'Fushigi Yuugi', '6'], ['4', '124', 'Fushigi Yuugi: Eikouden', '3'], ['4', '125', 'Futakoi', '6'], ['4', '4725', 'Ga-Rei: Zero', '10'], ['4', '383', 'Galaxy Angel', '5'], ['4', '19367', 'Galilei Donna', '5'], ['4', '25183', 'Gangsta.', '7'], ['4', '127', 'Gate Keepers', '9'], ['4', '128', 'Gate Keepers 21', '4'], ['4', '17651', 'Genei wo Kakeru Taiyou', '6'], ['4', '240', 'Genshiken', '9'], ['4', '129', 'Gensoumaden Saiyuuki', '8'], ['4', '484', 'Gensoumaden Saiyuuki Movie: Requiem - Erabarezaru Mono e no Chinkonka', '5'], ['4', '132', 'GetBackers', '8'], ['4', '1571', 'Ghost Hunt', '9'], ['4', '476', 'Ginban Kaleidoscope', '6'], ['4', '15863', 'Ginga Kikoutai Majestic Prince', '7'], ['4', '14131', 'Girls & Panzer', '7'], ['4', '23079', 'Glasslip', '3'], ['4', '456', 'Gokujou Seitokai', '6'], ['4', '17895', 'Golden Time', '7'], ['4', '8425', 'Gosick', '8'], ['4', '34279', 'Grancrest Senki', '6'], ['4', '245', 'Great Teacher Onizuka', '8'], ['4', '133', 'Green Green', '2'], ['4', '10793', 'Guilty Crown', '8'], ['4', '37245', 'Gundam Build Divers', '7'], ['4', '37247', 'Gundam Build Divers Prologue', '6'], ['4', '40192', 'Gundam Build Divers Re:Rise', '6'], ['4', '40942', 'Gundam Build Divers Re:Rise 2nd Season', '7'], ['4', '19319', 'Gundam Build Fighters', '8'], ['4', '24625', 'Gundam Build Fighters Try', '8'], ['4', '134', 'Gunslinger Girl', '7'], ['4', '38830', 'Hachi-nan tte, Sore wa Nai deshou!', '5'], ['4', '13161', 'Hagure Yuusha no Aesthetica', '5'], ['4', '31859', 'Hai to Gensou no Grimgar', '8'], ['4', '20583', 'Haikyuu!!', '8'], ['4', '32935', 'Haikyuu!! Karasuno Koukou vs. Shiratorizawa Gakuen Koukou', '8'], ['4', '28891', 'Haikyuu!! Second Season', '8'], ['4', '15613', 'Hakkenden: Touhou Hakken Ibun', '6'], ['4', '18055', 'Hakkenden: Touhou Hakken Ibun 2nd Season', '6'], ['4', '20689', 'Hamatora The Animation', '7'], ['4', '413', 'Hametsu no Mars', '1'], ['4', '21681', 'Hanayamata', '5'], ['4', '587', 'Hanbun no Tsuki ga Noboru Sora', '6'], ['4', '32981', 'Hand Shakers', '3'], ['4', '30895', 'HaruChika: Haruta to Chika wa Seishun suru', '4'], ['4', '15809', 'Hataraku Maou-sama!', '8'], ['4', '3298', 'Hatenkou Yuugi', '7'], ['4', '27829', 'Heavy Object', '8'], ['4', '270', 'Hellsing', '7'], ['4', '15225', 'Hentai Ouji to Warawanai Neko.', '7'], ['4', '23787', 'Hi☆sCoool! SeHa Girls', '3'], ['4', '8630', 'Hidan no Aria', '6'], ['4', '8074', 'Highschool of the Dead', '7'], ['4', '9515', 'Highschool of the Dead: Drifters of the Dead', '3'], ['4', '934', 'Higurashi no Naku Koro ni', '9'], ['4', '1889', 'Higurashi no Naku Koro ni Kai', '9'], ['4', '2899', 'Higurashi no Naku Koro ni Special: Nekogoroshi-hen', '7'], ['4', '12461', 'Hiiro no Kakera', '6'], ['4', '14645', 'Hiiro no Kakera 2', '5'], ['4', '135', 'Hikaru no Go', '9'], ['4', '645', 'Hikaru no Go: Hokuto Hai e no Michi', '7'], ['4', '28825', 'Himouto! Umaru-chan', '8'], ['4', '33654', 'Hitorijime My Hero', '6'], ['4', '20853', 'Hitsugi no Chaika', '7'], ['4', '39468', 'Honzuki no Gekokujou: Shisho ni Naru Tame ni wa Shudan wo Erandeiraremasen', '7'], ['4', '40815', 'Honzuki no Gekokujou: Shisho ni Naru Tame ni wa Shudan wo Erandeiraremasen 2nd Season', '7'], ['4', '9760', 'Hoshi wo Ou Kodomo', '9'], ['4', '136', 'Hunter x Hunter', '8'], ['4', '13271', 'Hunter x Hunter Movie 1: Phantom Rouge', '5'], ['4', '19951', 'Hunter x Hunter Movie 2: The Last Mission', '3'], ['4', '138', 'Hunter x Hunter: Greed Island', '8'], ['4', '139', 'Hunter x Hunter: Greed Island Final', '8'], ['4', '137', 'Hunter x Hunter: Original Video Animation', '8'], ['4', '248', 'Ichigo 100%', '3'], ['4', '9938', 'Ikoku Meiro no Croisée The Animation', '7'], ['4', '10804', 'Ikoku Meiro no Croisée The Animation: Ongakkai \"Récital\"', '7'], ['4', '160', 'Ima, Soko ni Iru Boku', '8'], ['4', '20457', 'Inari, Konkon, Koi Iroha.', '7'], ['4', '25159', 'Inou-Battle wa Nichijou-kei no Naka de', '7'], ['4', '9041', 'IS: Infinite Stratos', '7'], ['4', '37744', 'Isekai Cheat Magician', '5'], ['4', '34012', 'Isekai Shokudou', '6'], ['4', '35203', 'Isekai wa Smartphone to Tomo ni.', '4'], ['4', '3731', 'Itazura na Kiss', '5'], ['4', '9750', 'Itsuka Tenma no Kuro Usagi', '4'], ['4', '2523', 'Izumo: Takeki Tsurugi no Senki', '3'], ['4', '228', 'Jigoku Shoujo', '7'], ['4', '34565', 'Jikan no Shihaisha', '4'], ['4', '1613', 'Jikuu Ihoujin Kyoko: Chocola ni Omakase!', '3'], ['4', '141', 'Jinki:Extend', '6'], ['4', '10357', 'Jinrui wa Suitai Shimashita', '8'], ['4', '3092', 'Junjou Romantica', '6'], ['4', '4814', 'Junjou Romantica 2', '6'], ['4', '153', 'Juuni Kokuki', '9'], ['4', '35076', 'Juuni Taisen', '6'], ['4', '14467', 'K', '5'], ['4', '5680', 'K-On!', '7'], ['4', '6862', 'K-On!: Live House!', '7'], ['4', '7017', 'K-On!: Ura-On!', '5'], ['4', '16904', 'K: Missing Kings', '6'], ['4', '27991', 'K: Return of Kings', '6'], ['4', '590', 'Kage kara Mamoru!', '6'], ['4', '16664', 'Kaguya-hime no Monogatari', '8'], ['4', '7054', 'Kaichou wa Maid-sama!', '9'], ['4', '9366', 'Kaichou wa Maid-sama!: Omake da yo!', '7'], ['4', '37981', 'Kaijuu no Kodomo', '6'], ['4', '16668', 'Kakumeiki Valvrave', '5']]\n"
     ]
    }
   ],
   "source": [
    "def getAllAnimeDataForUserID(user_id):\n",
    "  with open('./dataset/users-score-2023.csv', mode='r', newline='', encoding='utf-8') as csvfile:\n",
    "    reader = list(csv.DictReader(csvfile))\n",
    "\n",
    "    left, right = 0, len(reader) - 1\n",
    "    first_index = -1\n",
    "\n",
    "    while left <= right:\n",
    "      mid = (left + right) // 2\n",
    "      mid_user_id = int(reader[mid]['user_id'])\n",
    "\n",
    "      if mid_user_id == user_id:\n",
    "        first_index = mid\n",
    "        right = mid - 1\n",
    "      elif mid_user_id < user_id:\n",
    "        left = mid + 1\n",
    "      else:\n",
    "        right = mid - 1\n",
    "\n",
    "    if first_index == -1:\n",
    "      return []\n",
    "\n",
    "    result = []\n",
    "    i = first_index\n",
    "    while i < len(reader) and int(reader[i]['user_id']) == user_id:\n",
    "      result.append([\n",
    "        reader[i]['user_id'],\n",
    "        reader[i]['anime_id'],\n",
    "        reader[i]['Anime Title'],\n",
    "        reader[i]['rating']\n",
    "      ])\n",
    "      i += 1\n",
    "\n",
    "    return result\n",
    "\n",
    "print(getAllAnimeDataForUserID(4))"
   ]
  },
  {
   "cell_type": "code",
   "execution_count": null,
   "metadata": {},
   "outputs": [
    {
     "data": {
      "text/plain": [
       "'6'"
      ]
     },
     "execution_count": 13,
     "metadata": {},
     "output_type": "execute_result"
    }
   ],
   "source": [
    "def getAnimeScoreFromUserID(user_id, anime_name):\n",
    "  results = getAllAnimeDataForUserID(user_id)\n",
    "  for result in results:\n",
    "    if result[2] == anime_name:\n",
    "      return result[3]\n",
    "  return -1\n",
    "\n",
    "getAnimeScoreFromUserID(4, \"Ayashi no Ceres\")"
   ]
  },
  {
   "cell_type": "code",
   "execution_count": null,
   "metadata": {},
   "outputs": [],
   "source": [
    "def xmlTocsv(xml_file_path, csv_file_path):\n",
    "  tree = ET.parse(xml_file_path)\n",
    "  root = tree.getroot()\n",
    "\n",
    "  with open(csv_file_path, mode='w', newline='', encoding='utf-8') as csvfile:\n",
    "    writer = csv.writer(csvfile)\n",
    "    writer.writerow(['placeholder','anime_id', 'Anime Name', 'rating'])\n",
    "\n",
    "    for anime in root.findall('anime'):\n",
    "      anime_id = anime.find('series_animedb_id').text\n",
    "      title = anime.find('series_title').text\n",
    "      score = anime.find('my_score').text\n",
    "\n",
    "      writer.writerow([anime_id, title.strip(), score.strip()])\n",
    "\n",
    "xmlTocsv('scrape_anime.xml', 'converted_anime.csv')"
   ]
  },
  {
   "cell_type": "code",
   "execution_count": null,
   "metadata": {},
   "outputs": [],
   "source": [
    "def getAnimeScoreFromCsv(anime_name, csv_file_path):\n",
    "  with open(csv_file_path, mode='r', newline='', encoding='utf-8') as csvfile:\n",
    "    reader = csv.DictReader(csvfile)\n",
    "    for row in reader:\n",
    "      if row['Anime Name'] == anime_name:\n",
    "        return row['rating']\n",
    "    return None"
   ]
  },
  {
   "cell_type": "code",
   "execution_count": 19,
   "metadata": {},
   "outputs": [
    {
     "data": {
      "text/plain": [
       "6.784172661870503"
      ]
     },
     "execution_count": 19,
     "metadata": {},
     "output_type": "execute_result"
    }
   ],
   "source": [
    "def csvAverageForGenre(genre, csv_file_path):\n",
    "  total_score = 0\n",
    "  count = 0\n",
    "\n",
    "  with open(csv_file_path, mode='r', newline='', encoding='utf-8') as csvfile:\n",
    "    reader = csv.DictReader(csvfile)\n",
    "    for row in reader:\n",
    "      anime_name = row['Anime Name']\n",
    "      rating = row['rating']\n",
    "      if not rating or rating == '0':\n",
    "        continue\n",
    "\n",
    "      genres = getGenresForAnime(anime_name)\n",
    "      if genres and genre in genres:\n",
    "        total_score += float(rating)\n",
    "        count += 1\n",
    "\n",
    "  return total_score / count if count > 0 else None\n",
    "\n",
    "csvAverageForGenre(\"Comedy\", 'converted_anime.csv')\n"
   ]
  }
 ],
 "metadata": {
  "kernelspec": {
   "display_name": ".venv",
   "language": "python",
   "name": "python3"
  },
  "language_info": {
   "codemirror_mode": {
    "name": "ipython",
    "version": 3
   },
   "file_extension": ".py",
   "mimetype": "text/x-python",
   "name": "python",
   "nbconvert_exporter": "python",
   "pygments_lexer": "ipython3",
   "version": "3.12.3"
  }
 },
 "nbformat": 4,
 "nbformat_minor": 2
}
